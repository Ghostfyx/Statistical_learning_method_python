{
 "cells": [
  {
   "cell_type": "code",
   "execution_count": 3,
   "metadata": {
    "collapsed": true
   },
   "outputs": [],
   "source": [
    "import numpy as np\n",
    "import pandas as pd\n",
    "import matplotlib.pyplot as plt\n",
    "%matplotlib inline\n",
    "\n",
    "from sklearn.datasets import load_iris\n",
    "from sklearn.model_selection import train_test_split\n",
    "\n",
    "from collections import Counter\n",
    "import math"
   ]
  },
  {
   "cell_type": "code",
   "execution_count": 4,
   "metadata": {},
   "outputs": [],
   "source": [
    "iris = load_iris()\n",
    "df = pd.DataFrame(iris.data)\n",
    "df['label'] = iris.target\n",
    "df.columns = ['sepal length', 'sepal width', 'petal length', 'petal width', 'label']\n",
    "data = df.iloc[:100, :]\n",
    "X = data.iloc[:, :]\n",
    "y = data.iloc[:, -1]\n",
    "X_train, X_test, y_train, y_test = train_test_split(X, y, test_size=0.3)\n"
   ]
  },
  {
   "cell_type": "code",
   "execution_count": 8,
   "metadata": {},
   "outputs": [],
   "source": [
    "# 构造高斯朴素贝叶斯分类器\n",
    "class NaiveBayes:\n",
    "    def __init__(self):\n",
    "        self.model = None\n",
    "        self.priorProbability = None\n",
    "\n",
    "    def mean(self, X):\n",
    "        return np.mean(X)\n",
    "\n",
    "    def stdev(self, X):\n",
    "        return np.var(X)\n",
    "\n",
    "    def gaussian_probability(self, X, mean, std):\n",
    "        \"\"\"\n",
    "        计算数据分布是高斯分布的概率密度\n",
    "        :param X:\n",
    "        \"\"\"\n",
    "        p = np.exp(-np.power(X - mean, 2) / 2 * std) / np.sqrt(2 * np.pi * std)\n",
    "        return p\n",
    "\n",
    "    def prior_probability(self, n):\n",
    "        \"\"\"\n",
    "        计算所有类别的先验概率 P(Y=C_k)\n",
    "        :param n:\n",
    "        :return:\n",
    "        \"\"\"\n",
    "        priorProbability = {}\n",
    "        for label, values in self.model.items():\n",
    "            priorProbability[label] = len(values) / n\n",
    "        return priorProbability\n",
    "\n",
    "    # 处理X_train\n",
    "    def summarize(self, train_data):\n",
    "        summaries = [(self.mean(i), self.stdev(i)) for i in zip(*train_data)]\n",
    "        return summaries\n",
    "\n",
    "    def calculate_probabilities(self, X):\n",
    "        probabilities = {}\n",
    "        for key, values in self.model.items():\n",
    "            probabilities[key] = 1\n",
    "            # 计算先验条件概率分布\n",
    "            for i in range(len(values)):\n",
    "                mean, stdev = values[i]\n",
    "                probabilitie = self.priorProbability[key] * self.gaussian_probability(X[i], mean, stdev)\n",
    "                probabilities[key] *= probabilitie\n",
    "        return probabilities\n",
    "\n",
    "    def fit(self, X, y):\n",
    "        n = X.shape[0]\n",
    "        labels = set(y.values)\n",
    "        iris_data = {label: [] for label in labels}\n",
    "        # 数据的组建\n",
    "        for x, label in zip(X.values, y):\n",
    "            iris_data[label].append(x)\n",
    "        self.model = {label: self.summarize(value) for label, value in iris_data.items()}\n",
    "        self.priorProbability = self.prior_probability(n)\n",
    "        print('model build over')\n",
    "\n",
    "    def predict(self, X_test):\n",
    "        probabilities = self.calculate_probabilities(X_test)\n",
    "        label = sorted(probabilities.items(), key=lambda item: item[-1])[-1][0]\n",
    "        return label\n",
    "\n",
    "    def score(self, X_test, y_test):\n",
    "        right_count = 0\n",
    "        for x_item, y_item in zip(X_test.values, y_test.values):\n",
    "            label = self.predict(x_item)\n",
    "            if label == y_item:\n",
    "                right_count += 1\n",
    "        print(right_count)\n",
    "        print(len(X_test))\n",
    "        print(right_count / len(X_test))"
   ]
  },
  {
   "cell_type": "code",
   "execution_count": 9,
   "metadata": {},
   "outputs": [
    {
     "name": "stdout",
     "output_type": "stream",
     "text": [
      "model build over\n15\n30\n0.5\n"
     ]
    },
    {
     "name": "stderr",
     "output_type": "stream",
     "text": [
      "C:\\Users\\fanyuexiang\\venv\\lib\\site-packages\\ipykernel_launcher.py:18: RuntimeWarning: divide by zero encountered in double_scalars\n"
     ]
    }
   ],
   "source": [
    "bais = NaiveBayes()\n",
    "bais.fit(X_train, y_train)\n",
    "bais.score(X_test, y_test)"
   ]
  },
  {
   "cell_type": "code",
   "execution_count": 10,
   "metadata": {},
   "outputs": [
    {
     "data": {
      "text/plain": [
       "1.0"
      ]
     },
     "execution_count": 10,
     "metadata": {},
     "output_type": "execute_result"
    }
   ],
   "source": [
    "# sklearn.naive_bayes 调用与自己写的模型相比较\n",
    "from sklearn.naive_bayes import GaussianNB\n",
    "model_Gaussian = GaussianNB()\n",
    "model_Gaussian.fit(X_train, y_train)\n",
    "model_Gaussian.score(X_test, y_test)"
   ]
  },
  {
   "cell_type": "code",
   "execution_count": null,
   "metadata": {},
   "outputs": [],
   "source": []
  }
 ],
 "metadata": {
  "kernelspec": {
   "display_name": "Python 2",
   "language": "python",
   "name": "python2"
  },
  "language_info": {
   "codemirror_mode": {
    "name": "ipython",
    "version": 2
   },
   "file_extension": ".py",
   "mimetype": "text/x-python",
   "name": "python",
   "nbconvert_exporter": "python",
   "pygments_lexer": "ipython2",
   "version": "2.7.6"
  }
 },
 "nbformat": 4,
 "nbformat_minor": 0
}
