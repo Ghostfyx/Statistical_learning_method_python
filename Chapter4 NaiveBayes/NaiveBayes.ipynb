{
 "cells": [
  {
   "cell_type": "code",
   "execution_count": 3,
   "metadata": {
    "collapsed": true
   },
   "outputs": [],
   "source": [
    "import numpy as np\n",
    "import pandas as pd\n",
    "import matplotlib.pyplot as plt\n",
    "%matplotlib inline\n",
    "\n",
    "from sklearn.datasets import load_iris\n",
    "from sklearn.model_selection import train_test_split\n",
    "\n",
    "from collections import Counter\n",
    "import math"
   ]
  },
  {
   "cell_type": "code",
   "execution_count": 14,
   "metadata": {},
   "outputs": [
    {
     "name": "stdout",
     "output_type": "stream",
     "text": [
      "{0: [], 1: []}\n"
     ]
    }
   ],
   "source": [
    "iris = load_iris()\n",
    "df = pd.DataFrame(iris.data)\n",
    "df['label'] = iris.target\n",
    "df.columns = ['sepal length', 'sepal width', 'petal length', 'petal width', 'label']\n",
    "data = df.iloc[:100, :]\n",
    "X = data.iloc[:, :]\n",
    "y = data.iloc[:, -1]\n",
    "X_train, X_test, y_train, y_test = train_test_split(X, y, test_size=0.3)\n"
   ]
  },
  {
   "cell_type": "code",
   "execution_count": 15,
   "metadata": {},
   "outputs": [],
   "source": [
    "# 构造高斯朴素贝叶斯分类器\n",
    "class NaiveBayes:\n",
    "    def __init__(self):\n",
    "        self.model = None\n",
    "\n",
    "    def mean(self, X):\n",
    "        return np.mean(X)\n",
    "\n",
    "    def stdev(self, X):\n",
    "        return np.var(X)\n",
    "\n",
    "    def gaussian_probability(self, X):\n",
    "        \"\"\"\n",
    "        计算数据分布是高斯分布的概率密度\n",
    "        :param X:\n",
    "        \"\"\"\n",
    "        std = self.stdev(X)\n",
    "        mean = self.mean(X)\n",
    "        p = np.exp(-np.power(X - mean, 2) / 2 * std) / np.sqrt(2 * np.pi * std)\n",
    "        return p\n",
    "\n",
    "    # 处理X_train\n",
    "    def summarize(self, values):\n",
    "        summaries = [(self.mean(i), self.stdev(i)) for i in values]\n",
    "        return summaries\n",
    "\n",
    "    def fit(self, X, y):\n",
    "        labels = set(y.values)\n",
    "        iris_data = {label: [] for label in labels}\n",
    "        # 数据的组建\n",
    "        for x, label in zip(X.values, y):\n",
    "            iris_data[label].append(x)\n",
    "        self.model = {label: self.summarize(value) for label, value in iris_data.items()}\n",
    "        print('model build over')\n",
    "    \n",
    "    def score(self, X_test, y_test):\n",
    "    "
   ]
  }
 ],
 "metadata": {
  "kernelspec": {
   "display_name": "Python 2",
   "language": "python",
   "name": "python2"
  },
  "language_info": {
   "codemirror_mode": {
    "name": "ipython",
    "version": 2
   },
   "file_extension": ".py",
   "mimetype": "text/x-python",
   "name": "python",
   "nbconvert_exporter": "python",
   "pygments_lexer": "ipython2",
   "version": "2.7.6"
  }
 },
 "nbformat": 4,
 "nbformat_minor": 0
}
