{
 "cells": [
  {
   "cell_type": "code",
   "execution_count": 2,
   "metadata": {
    "collapsed": true
   },
   "outputs": [],
   "source": [
    "import numpy as np\n",
    "import pandas as pd\n",
    "import matplotlib.pyplot as plt\n",
    "%matplotlib inline\n",
    "from sklearn.datasets import load_iris\n",
    "from sklearn.model_selection import train_test_split\n",
    "from collections import Counter\n",
    "import math\n",
    "from math import log\n",
    "import pprint\n",
    "import seaborn as sns\n",
    "import warnings; warnings.filterwarnings(action='once')\n",
    "\n",
    "large = 22; med = 16; small = 12\n",
    "params = {'axes.titlesize': large,\n",
    "          'legend.fontsize': med,\n",
    "          'figure.figsize': (16, 10),\n",
    "          'axes.labelsize': med,\n",
    "          'axes.titlesize': med,\n",
    "          'xtick.labelsize': med,\n",
    "          'ytick.labelsize': med,\n",
    "          'figure.titlesize': large}\n",
    "plt.rcParams.update(params)\n",
    "plt.style.use('seaborn-whitegrid')\n",
    "sns.set_style(\"white\")\n",
    "%matplotlib inline\n"
   ]
  },
  {
   "cell_type": "code",
   "execution_count": 3,
   "metadata": {},
   "outputs": [],
   "source": [
    "# 书上题目5.1\n",
    "def create_data():\n",
    "    datasets = [['青年', '否', '否', '一般', '否'],\n",
    "               ['青年', '否', '否', '好', '否'],\n",
    "               ['青年', '是', '否', '好', '是'],\n",
    "               ['青年', '是', '是', '一般', '是'],\n",
    "               ['青年', '否', '否', '一般', '否'],\n",
    "               ['中年', '否', '否', '一般', '否'],\n",
    "               ['中年', '否', '否', '好', '否'],\n",
    "               ['中年', '是', '是', '好', '是'],\n",
    "               ['中年', '否', '是', '非常好', '是'],\n",
    "               ['中年', '否', '是', '非常好', '是'],\n",
    "               ['老年', '否', '是', '非常好', '是'],\n",
    "               ['老年', '否', '是', '好', '是'],\n",
    "               ['老年', '是', '否', '好', '是'],\n",
    "               ['老年', '是', '否', '非常好', '是'],\n",
    "               ['老年', '否', '否', '一般', '否'],\n",
    "               ]\n",
    "    labels = [u'年龄', u'有工作', u'有自己的房子', u'信贷情况', u'类别']\n",
    "    # 返回数据集和每个维度的名称\n",
    "    return datasets, labels"
   ]
  },
  {
   "cell_type": "code",
   "execution_count": 4,
   "metadata": {
    "collapsed": false
   },
   "outputs": [
    {
     "name": "stdout",
     "output_type": "stream",
     "text": [
      "   年龄 有工作 有自己的房子 信贷情况 类别\n0  青年   否      否   一般  否\n1  青年   否      否    好  否\n2  青年   是      否    好  是\n3  青年   是      是   一般  是\n4  青年   否      否   一般  否\n"
     ]
    }
   ],
   "source": [
    "datasets, labels = create_data()\n",
    "df = pd.DataFrame(data=datasets, columns=labels)\n",
    "print(df.head())"
   ]
  },
  {
   "cell_type": "code",
   "execution_count": 5,
   "metadata": {},
   "outputs": [
    {
     "name": "stdout",
     "output_type": "stream",
     "text": [
      "   年龄  有工作  有自己的房子 信贷情况  类别\n0   1    0       0    1   0\n1   1    0       0    2   0\n2   1    1       0    2   1\n3   1    1       1    1   1\n4   1    0       0    1   0\n"
     ]
    }
   ],
   "source": [
    "# 对训练集中的数据进行处理\n",
    "df = df.replace({'年龄': {'青年': 1, '中年': 2, '老年': 3}, '有工作': {'是': 1, '否': 0}, \n",
    "                 '有自己的房子': {'是': 1, '否': 0}, '信贷情况': {'一般': '1', '好': 2, '非常好': '3'},\n",
    "                 '类别': {'是': 1, '否': 0}})\n",
    "print(df.head())"
   ]
  },
  {
   "cell_type": "code",
   "execution_count": 13,
   "metadata": {},
   "outputs": [
    {
     "name": "stdout",
     "output_type": "stream",
     "text": [
      "calc_entropy: 0.6730116670092565\n"
     ]
    },
    {
     "data": {
      "text/plain": [
       "0.6730116670092565"
      ]
     },
     "execution_count": 13,
     "metadata": {},
     "output_type": "execute_result"
    }
   ],
   "source": [
    "# 计算墒(整个数据集维度)\n",
    "def calc_entropy(datasets):\n",
    "    m = len(datasets)\n",
    "    label_count = {}\n",
    "    for i in range(m):\n",
    "        label = datasets[i][-1]\n",
    "        if label not in label_count:\n",
    "            label_count[label] = 0\n",
    "        label_count[label] += 1\n",
    "    calc_entropy = -sum([p/m*log(p/m, math.e) for p in label_count.values()])\n",
    "    print('calc_entropy:', calc_entropy)\n",
    "    return calc_entropy\n",
    "calc_entropy(datasets)"
   ]
  },
  {
   "cell_type": "code",
   "execution_count": 14,
   "metadata": {},
   "outputs": [
    {
     "name": "stdout",
     "output_type": "stream",
     "text": [
      "calc_entropy: 0.6730116670092565\ncalc_entropy: 0.6730116670092565\ncalc_entropy: 0.5004024235381879\ncondition_entropy: 0.6154752525189002\n"
     ]
    },
    {
     "data": {
      "text/plain": [
       "0.6154752525189002"
      ]
     },
     "execution_count": 14,
     "metadata": {},
     "output_type": "execute_result"
    }
   ],
   "source": [
    "# 经验条件熵\n",
    "def condition_entropy(datasets, axis=0):\n",
    "    m = len(datasets)\n",
    "    feature_sets = {}\n",
    "    for i in range(m):\n",
    "        feature = datasets[i][axis]\n",
    "        if feature not in feature_sets:\n",
    "            feature_sets[feature] = []\n",
    "        feature_sets[feature].append(datasets[i])\n",
    "    condition_entropy = sum([len(p) / m * calc_entropy(p) for p in feature_sets.values()])\n",
    "    print('condition_entropy:', condition_entropy)\n",
    "    return condition_entropy\n",
    "condition_entropy(datasets)"
   ]
  },
  {
   "cell_type": "code",
   "execution_count": 15,
   "metadata": {
    "collapsed": false
   },
   "outputs": [
    {
     "name": "stdout",
     "output_type": "stream",
     "text": [
      "calc_entropy: 0.6730116670092565\ncalc_entropy: 0.6730116670092565\ncalc_entropy: 0.6730116670092565\ncalc_entropy: 0.5004024235381879\ncondition_entropy: 0.6154752525189002\n特征(年龄) - info_gain - 0.058\ncalc_entropy: 0.6730116670092565\ncalc_entropy: -0.0\ncondition_entropy: 0.4486744446728377\n特征(有工作) - info_gain - 0.224\ncalc_entropy: 0.6365141682948128\ncalc_entropy: -0.0\ncondition_entropy: 0.38190850097688767\n特征(有自己的房子) - info_gain - 0.291\ncalc_entropy: 0.5004024235381879\ncalc_entropy: 0.6365141682948128\ncalc_entropy: -0.0\ncondition_entropy: 0.4214064751639877\n特征(信贷情况) - info_gain - 0.252\n特征(有自己的房子)的信息增益最大，选择为根节点特征\n"
     ]
    }
   ],
   "source": [
    " # 信息增益\n",
    "def info_gain(entropy, condition_ent):\n",
    "    return entropy - condition_ent\n",
    "\n",
    "def compute_bestfeature(df):\n",
    "    features = df.columns\n",
    "    data = df.values\n",
    "    feature_gains = {}\n",
    "    entropy = calc_entropy(data)\n",
    "    for i in range(len(features)-1):\n",
    "        condition_ent = condition_entropy(data, axis=i)\n",
    "        feature_gain = info_gain(entropy, condition_ent)\n",
    "        feature_gains[features[i]] = feature_gain\n",
    "        print('特征({}) - info_gain - {:.3f}'.format(features[i], feature_gain))\n",
    "    best_feature = max(feature_gains.items(), key=lambda item: item[1])\n",
    "    print('特征({})的信息增益最大，选择为根节点特征'.format(best_feature[0]))\n",
    "    \n",
    "compute_bestfeature(df)"
   ]
  },
  {
   "cell_type": "code",
   "execution_count": 16,
   "metadata": {},
   "outputs": [
    {
     "ename": "SyntaxError",
     "evalue": "unexpected EOF while parsing (<ipython-input-16-b882f89adc1b>, line 4)",
     "traceback": [
      "\u001b[0;36m  File \u001b[0;32m\"<ipython-input-16-b882f89adc1b>\"\u001b[0;36m, line \u001b[0;32m4\u001b[0m\n\u001b[0;31m    \u001b[0m\n\u001b[0m    ^\u001b[0m\n\u001b[0;31mSyntaxError\u001b[0m\u001b[0;31m:\u001b[0m unexpected EOF while parsing\n"
     ],
     "output_type": "error"
    }
   ],
   "source": [
    "# 利用ID3算法生成决策树，例5.3\n",
    "class TreeNode:\n",
    "    def __init__(self, root=True, label=None, feature_name=None, feature=None):\n",
    "        self.root = root\n",
    "        self.label = label\n",
    "        self.feature_name = feature_name\n",
    "        self.feature = feature\n",
    "        self.tree = {}\n",
    "        self.result = {'label:': self.label, 'feature': self.feature, 'tree': self.tree}\n",
    "    \n",
    "    # 表示对象的可打印字符串    \n",
    "    def __repr__(self):\n",
    "        return '{}'.format(self.result)\n",
    "    \n",
    "    def addNode(self, val, node):\n",
    "        self.tree[val] = node\n",
    "\n",
    "\n",
    "class DTree:\n",
    "    def __init__(self, epsilon=0.1):\n",
    "        self.epsilon = epsilon\n",
    "        self._tree = {}\n",
    "        \n",
    "    # 计算墒(整个数据集维度)\n",
    "    def calc_entropy(datasets):\n",
    "        m = len(datasets)\n",
    "        label_count = {}\n",
    "        for i in range(m):\n",
    "            label = datasets[i][-1]\n",
    "            if label not in label_count:\n",
    "                label_count[label] = 0\n",
    "            label_count[label] += 1\n",
    "        calc_entropy = -sum([p/m*log(p/m, math.e) for p in label_count.values()])\n",
    "        return calc_entropy\n",
    "    \n",
    "    # 经验条件熵\n",
    "    def condition_entropy(datasets, axis=0):\n",
    "        m = len(datasets)\n",
    "        feature_sets = {}\n",
    "        for i in range(m):\n",
    "            feature = datasets[i][axis]\n",
    "            if feature not in feature_sets:\n",
    "                feature_sets[feature] = []\n",
    "            feature_sets[feature].append(datasets[i])\n",
    "        condition_entropy = sum([len(p) / m * calc_entropy(p) for p in feature_sets.values()])\n",
    "        return condition_entropy\n",
    "    \n",
    "    "
   ]
  }
 ],
 "metadata": {
  "kernelspec": {
   "display_name": "Python 2",
   "language": "python",
   "name": "python2"
  },
  "language_info": {
   "codemirror_mode": {
    "name": "ipython",
    "version": 2
   },
   "file_extension": ".py",
   "mimetype": "text/x-python",
   "name": "python",
   "nbconvert_exporter": "python",
   "pygments_lexer": "ipython2",
   "version": "2.7.6"
  }
 },
 "nbformat": 4,
 "nbformat_minor": 0
}
