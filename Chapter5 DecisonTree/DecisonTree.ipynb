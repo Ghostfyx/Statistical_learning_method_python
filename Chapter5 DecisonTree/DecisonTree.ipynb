{
 "cells": [
  {
   "cell_type": "code",
   "execution_count": 3,
   "metadata": {
    "collapsed": true
   },
   "outputs": [],
   "source": [
    "import numpy as np\n",
    "import pandas as pd\n",
    "import matplotlib.pyplot as plt\n",
    "%matplotlib inline\n",
    "from sklearn.datasets import load_iris\n",
    "from sklearn.model_selection import train_test_split\n",
    "from collections import Counter\n",
    "import math\n",
    "from math import log\n",
    "import pprint\n",
    "import seaborn as sns\n",
    "import warnings; warnings.filterwarnings(action='once')\n",
    "\n",
    "large = 22; med = 16; small = 12\n",
    "params = {'axes.titlesize': large,\n",
    "          'legend.fontsize': med,\n",
    "          'figure.figsize': (16, 10),\n",
    "          'axes.labelsize': med,\n",
    "          'axes.titlesize': med,\n",
    "          'xtick.labelsize': med,\n",
    "          'ytick.labelsize': med,\n",
    "          'figure.titlesize': large}\n",
    "plt.rcParams.update(params)\n",
    "plt.style.use('seaborn-whitegrid')\n",
    "sns.set_style(\"white\")\n",
    "%matplotlib inline\n"
   ]
  },
  {
   "cell_type": "code",
   "execution_count": 4,
   "metadata": {},
   "outputs": [],
   "source": [
    "# 书上题目5.1\n",
    "def create_data():\n",
    "    datasets = [['青年', '否', '否', '一般', '否'],\n",
    "               ['青年', '否', '否', '好', '否'],\n",
    "               ['青年', '是', '否', '好', '是'],\n",
    "               ['青年', '是', '是', '一般', '是'],\n",
    "               ['青年', '否', '否', '一般', '否'],\n",
    "               ['中年', '否', '否', '一般', '否'],\n",
    "               ['中年', '否', '否', '好', '否'],\n",
    "               ['中年', '是', '是', '好', '是'],\n",
    "               ['中年', '否', '是', '非常好', '是'],\n",
    "               ['中年', '否', '是', '非常好', '是'],\n",
    "               ['老年', '否', '是', '非常好', '是'],\n",
    "               ['老年', '否', '是', '好', '是'],\n",
    "               ['老年', '是', '否', '好', '是'],\n",
    "               ['老年', '是', '否', '非常好', '是'],\n",
    "               ['老年', '否', '否', '一般', '否'],\n",
    "               ]\n",
    "    labels = [u'年龄', u'有工作', u'有自己的房子', u'信贷情况', u'类别']\n",
    "    # 返回数据集和每个维度的名称\n",
    "    return datasets, labels"
   ]
  },
  {
   "cell_type": "code",
   "execution_count": 5,
   "metadata": {
    "collapsed": false
   },
   "outputs": [],
   "source": [
    "datasets, labels = create_data()\n",
    "df = pd.DataFrame(data=datasets, columns=labels)\n",
    "print(df.head())"
   ]
  },
  {
   "cell_type": "code",
   "execution_count": 6,
   "metadata": {},
   "outputs": [
    {
     "name": "stdout",
     "output_type": "stream",
     "text": [
      "   年龄  有工作  有自己的房子 信贷情况  类别\n0   1    0       0    1   0\n1   1    0       0    2   0\n2   1    1       0    2   1\n3   1    1       1    1   1\n4   1    0       0    1   0\n"
     ]
    }
   ],
   "source": [
    "# 对训练集中的数据进行处理\n",
    "df = df.replace({'年龄': {'青年': 1, '中年': 2, '老年': 3}, '有工作': {'是': 1, '否': 0}, \n",
    "                 '有自己的房子': {'是': 1, '否': 0}, '信贷情况': {'一般': '1', '好': 2, '非常好': '3'},\n",
    "                 '类别': {'是': 1, '否': 0}})\n",
    "print(df.head())"
   ]
  },
  {
   "cell_type": "code",
   "execution_count": 7,
   "metadata": {},
   "outputs": [
    {
     "name": "stdout",
     "output_type": "stream",
     "text": [
      "calc_entropy: 0.6730116670092565\n"
     ]
    },
    {
     "data": {
      "text/plain": [
       "0.6730116670092565"
      ]
     },
     "execution_count": 7,
     "metadata": {},
     "output_type": "execute_result"
    }
   ],
   "source": [
    "# 计算墒(整个数据集维度)\n",
    "def calc_entropy(datasets):\n",
    "    m = len(datasets)\n",
    "    label_count = {}\n",
    "    for i in range(m):\n",
    "        label = datasets[i][-1]\n",
    "        if label not in label_count:\n",
    "            label_count[label] = 0\n",
    "        label_count[label] += 1\n",
    "    calc_entropy = -sum([p/m*log(p/m, math.e) for p in label_count.values()])\n",
    "    print('calc_entropy:', calc_entropy)\n",
    "    return calc_entropy\n",
    "calc_entropy(datasets)"
   ]
  },
  {
   "cell_type": "code",
   "execution_count": 8,
   "metadata": {},
   "outputs": [
    {
     "name": "stdout",
     "output_type": "stream",
     "text": [
      "calc_entropy: 0.6730116670092565\ncalc_entropy: 0.6730116670092565\ncalc_entropy: 0.5004024235381879\ncondition_entropy: 0.6154752525189002\n"
     ]
    }
   ],
   "source": [
    "# 经验条件熵\n",
    "def condition_entropy(datasets, axis=0):\n",
    "    m = len(datasets)\n",
    "    feature_sets = {}\n",
    "    for i in range(m):\n",
    "        feature = datasets[i][axis]\n",
    "        if feature not in feature_sets:\n",
    "            feature_sets[feature] = []\n",
    "        feature_sets[feature].append(datasets[i])\n",
    "    condition_entropy = sum([len(p) / m * calc_entropy(p) for p in feature_sets.values()])\n",
    "    print('condition_entropy:', condition_entropy)\n",
    "    return condition_entropy\n",
    "condition_entropy(datasets)"
   ]
  },
  {
   "cell_type": "code",
   "execution_count": 12,
   "metadata": {
    "collapsed": false
   },
   "outputs": [
    {
     "name": "stdout",
     "output_type": "stream",
     "text": [
      "calc_entropy: 0.6730116670092565\ncalc_entropy: 0.6730116670092565\ncalc_entropy: 0.6730116670092565\ncalc_entropy: 0.5004024235381879\ncondition_entropy: 0.6154752525189002\n特征(年龄) - info_gain - 0.058\ncalc_entropy: 0.6730116670092565\ncalc_entropy: -0.0\ncondition_entropy: 0.4486744446728377\n特征(有工作) - info_gain - 0.224\ncalc_entropy: 0.6365141682948128\ncalc_entropy: -0.0\ncondition_entropy: 0.38190850097688767\n特征(有自己的房子) - info_gain - 0.291\ncalc_entropy: 0.5004024235381879\ncalc_entropy: 0.6365141682948128\ncalc_entropy: -0.0\ncondition_entropy: 0.4214064751639877\n特征(信贷情况) - info_gain - 0.252\n特征(有自己的房子)的信息增益最大，选择为根节点特征\n"
     ]
    }
   ],
   "source": [
    " # 信息增益\n",
    "def info_gain(entropy, condition_ent):\n",
    "    return entropy - condition_ent\n",
    "\n",
    "def compute_bestfeature(df):\n",
    "    features = df.columns\n",
    "    data = df.values\n",
    "    feature_gains = {}\n",
    "    entropy = calc_entropy(data)\n",
    "    for i in range(len(features)-1):\n",
    "        condition_ent = condition_entropy(data, axis=i)\n",
    "        feature_gain = info_gain(entropy, condition_ent)\n",
    "        feature_gains[features[i]] = feature_gain\n",
    "        print('特征({}) - info_gain - {:.3f}'.format(features[i], feature_gain))\n",
    "    best_feature = max(feature_gains.items(), key=lambda item: item[1])\n",
    "    print('特征({})的信息增益最大，选择为根节点特征'.format(best_feature[0]))\n",
    "    \n",
    "compute_bestfeature(df)"
   ]
  },
  {
   "cell_type": "code",
   "execution_count": 13,
   "metadata": {},
   "outputs": [],
   "source": [
    "# 利用ID3算法生成决策树，例5.3\n",
    "class TreeNode:\n",
    "    def __init__(self, root=True, label=None, feature_name=None, feature=None):\n",
    "        # 是否为单节点树\n",
    "        self.root = root\n",
    "        self.label = label\n",
    "        self.feature_name = feature_name\n",
    "        self.feature = feature\n",
    "        self.tree = {}\n",
    "        self.result = {'label:': self.label, 'feature': self.feature, 'tree': self.tree}\n",
    "    \n",
    "    # 表示对象的可打印字符串    \n",
    "    def __repr__(self):\n",
    "        return '{}'.format(self.result)\n",
    "    \n",
    "    def add_node(self, val, node):\n",
    "        self.tree[val] = node\n",
    "        \n",
    "    def predict(self, features):\n",
    "         if self.root is True:\n",
    "            return self.tree[features[self.feature]].predict(features)\n",
    "        \n",
    "class DTree:\n",
    "    def __init__(self, epsilon=0.1):\n",
    "        self.epsilon = epsilon\n",
    "        self._tree = {}\n",
    "        \n",
    "    # 计算墒(整个数据集维度)\n",
    "    def calc_entropy(self, datasets):\n",
    "        m = len(datasets)\n",
    "        label_count = {}\n",
    "        for i in range(m):\n",
    "            label = datasets[i][-1]\n",
    "            if label not in label_count:\n",
    "                label_count[label] = 0\n",
    "            label_count[label] += 1\n",
    "        calc_entropy = -sum([p/m*log(p/m, math.e) for p in label_count.values()])\n",
    "        return calc_entropy\n",
    "    \n",
    "    # 经验条件熵\n",
    "    def condition_entropy(self, datasets, axis=0):\n",
    "        m = len(datasets)\n",
    "        feature_sets = {}\n",
    "        for i in range(m):\n",
    "            feature = datasets[i][axis]\n",
    "            if feature not in feature_sets:\n",
    "                feature_sets[feature] = []\n",
    "            feature_sets[feature].append(datasets[i])\n",
    "        condition_entropy = sum([len(p) / m * calc_entropy(p) for p in feature_sets.values()])\n",
    "        return condition_entropy\n",
    "     \n",
    "    # 信息增益\n",
    "    def info_gain(self, entropy, condition_ent):\n",
    "        return entropy - condition_ent\n",
    "    \n",
    "    def compute_bestfeature(self, datasets):\n",
    "        count = len(datasets[0]) - 1\n",
    "        calc_entropy = self.calc_entropy(datasets)\n",
    "        best_features = []\n",
    "        for i in range(count):\n",
    "            c_info_gain = self.info_gain(calc_entropy, self.condition_entropy(datasets, axis=i))\n",
    "            best_features.append((i, c_info_gain))\n",
    "        best_ = max(best_features, key= lambda x: x[1])\n",
    "        return best_\n",
    "    \n",
    "    def train(self, train_data):\n",
    "        X_train = train_data.iloc[:, :-1]\n",
    "        y_train = train_data.iloc[:, -1]\n",
    "        features = train_data.columns[:-1]\n",
    "        # 1,若D中实例属于同一类Ck，则T为单节点树，并将类Ck作为结点的类标记，返回T\n",
    "        if len(y_train.value_counts()) == 1:\n",
    "            return TreeNode(root=True, label=y_train.iloc[0])\n",
    "        # 2, 若特征集为空，则T为单节点树，将D中实例树最大的类Ck作为该节点的类标记，返回T\n",
    "        if len(features) == 0:\n",
    "            return TreeNode(root=True, label=y_train.value_counts().sort_values(ascending=False).index[0])\n",
    "        max_feature, max_info_gain = self.compute_bestfeature(np.array(train_data))\n",
    "        max_feature_name = features[max_feature]\n",
    "        \n",
    "        # 4,Ag的信息增益小于阈值eta,则置T为单节点树，并将D中是实例数最大的类Ck作为该节点的类标记，返回T\n",
    "        if max_info_gain < self.epsilon:\n",
    "            return TreeNode(root=True, label=y_train.value_counts().sort_values(ascending=False).index[0])\n",
    "        # 构建第一个节点\n",
    "        node_tree = TreeNode(root=False, feature_name=max_feature_name, feature=max_feature)\n",
    "\n",
    "        feature_list = train_data[max_feature_name].value_counts().index\n",
    "        for f in feature_list:\n",
    "            sub_train_df = train_data.loc[train_data[max_feature_name] == f].drop([max_feature_name], axis=1)\n",
    "            # 6, 递归生成树\n",
    "            sub_tree = self.train(sub_train_df)\n",
    "            node_tree.add_node(f, sub_tree)\n",
    "\n",
    "        # pprint.pprint(node_tree.tree)\n",
    "        return node_tree\n",
    "    \n",
    "    def fit(self, train_data):\n",
    "        self._tree = self.train(train_data)\n",
    "        return self._tree\n",
    "\n",
    "    def predict(self, X_test):\n",
    "        return self._tree.predict(X_test)"
   ]
  },
  {
   "cell_type": "code",
   "execution_count": 16,
   "metadata": {},
   "outputs": [
    {
     "name": "stdout",
     "output_type": "stream",
     "text": [
      "calc_entropy: 0.6730116670092565\ncalc_entropy: 0.6730116670092565\ncalc_entropy: 0.5004024235381879\ncalc_entropy: 0.6730116670092565\ncalc_entropy: -0.0\ncalc_entropy: 0.6365141682948128\ncalc_entropy: -0.0\ncalc_entropy: 0.5004024235381879\ncalc_entropy: 0.6365141682948128\ncalc_entropy: -0.0\ncalc_entropy: 0.5623351446188083\ncalc_entropy: -0.0\ncalc_entropy: 0.6365141682948128\ncalc_entropy: -0.0\ncalc_entropy: -0.0\ncalc_entropy: -0.0\ncalc_entropy: 0.6931471805599453\ncalc_entropy: -0.0\n{'label:': None, 'feature': 2, 'tree': {'否': {'label:': None, 'feature': 1, 'tree': {'否': {'label:': '否', 'feature': None, 'tree': {}}, '是': {'label:': '是', 'feature': None, 'tree': {}}}}, '是': {'label:': '是', 'feature': None, 'tree': {}}}}\n"
     ]
    }
   ],
   "source": [
    "datasets, labels = create_data()\n",
    "data_df = pd.DataFrame(datasets, columns=labels)\n",
    "dt = DTree()\n",
    "tree = dt.fit(data_df)\n",
    "print(tree)"
   ]
  },
  {
   "cell_type": "code",
   "execution_count": 20,
   "metadata": {},
   "outputs": [],
   "source": [
    "# 使用sklearn的决策树实现ID3算法\n",
    "def create_iris():\n",
    "    iris = load_iris()\n",
    "    df = pd.DataFrame(iris.data, columns=iris.feature_names)\n",
    "    df['label'] = iris.target\n",
    "    df.columns = ['sepal length', 'sepal width', 'petal length', 'petal width', 'label']\n",
    "    data = np.array(df.iloc[:100, [0, 1, -1]])\n",
    "    # print(data)\n",
    "    return data[:,:-1], data[:,-1]"
   ]
  },
  {
   "cell_type": "code",
   "execution_count": 21,
   "metadata": {},
   "outputs": [],
   "source": [
    "from sklearn.tree import DecisionTreeClassifier\n",
    "\n",
    "from sklearn.tree import export_graphviz\n",
    "import graphviz"
   ]
  },
  {
   "cell_type": "code",
   "execution_count": 22,
   "metadata": {},
   "outputs": [],
   "source": [
    "X, y = create_iris()\n",
    "X_train, X_test, y_train, y_test = train_test_split(X, y, test_size=0.3)"
   ]
  },
  {
   "cell_type": "code",
   "execution_count": 23,
   "metadata": {},
   "outputs": [
    {
     "name": "stdout",
     "output_type": "stream",
     "text": [
      "0.9333333333333333\n"
     ]
    }
   ],
   "source": [
    "clf = DecisionTreeClassifier()\n",
    "clf.fit(X_train, y_train)\n",
    "print(clf.score(X_test, y_test))"
   ]
  },
  {
   "cell_type": "code",
   "execution_count": 34,
   "metadata": {},
   "outputs": [],
   "source": [
    "export_graphviz(clf, out_file='Chapter5 DecisonTree/ID3.pdf')\n"
   ]
  },
  {
   "cell_type": "code",
   "execution_count": 35,
   "metadata": {},
   "outputs": [],
   "source": [
    "with open('Chapter5 DecisonTree/ID3.pdf') as f:\n",
    "    dot_graph = f.read()\n",
    "    graphviz.Source(dot_graph)"
   ]
  },
  {
   "cell_type": "code",
   "execution_count": null,
   "metadata": {},
   "outputs": [],
   "source": []
  }
 ],
 "metadata": {
  "kernelspec": {
   "display_name": "Python 2",
   "language": "python",
   "name": "python2"
  },
  "language_info": {
   "codemirror_mode": {
    "name": "ipython",
    "version": 2
   },
   "file_extension": ".py",
   "mimetype": "text/x-python",
   "name": "python",
   "nbconvert_exporter": "python",
   "pygments_lexer": "ipython2",
   "version": "2.7.6"
  }
 },
 "nbformat": 4,
 "nbformat_minor": 0
}
