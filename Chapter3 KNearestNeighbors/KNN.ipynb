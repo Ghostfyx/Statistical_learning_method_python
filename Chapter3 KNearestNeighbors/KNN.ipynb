{
 "cells": [
  {
   "cell_type": "code",
   "execution_count": 3,
   "metadata": {
    "collapsed": true
   },
   "outputs": [],
   "source": [
    "import math"
   ]
  },
  {
   "cell_type": "code",
   "execution_count": 3,
   "metadata": {},
   "outputs": [],
   "source": [
    "def L(x, y, p=2):\n",
    "    '''\n",
    "    距离的度量方式：\n",
    "        p = 1 曼哈顿距离\n",
    "        p = 2 欧氏距离\n",
    "        p = inf 闵式距离minkowski_distance\n",
    "    '''\n",
    "    if len(x) == len(y) and len(x) >= 1:\n",
    "        sum = 0\n",
    "        for i in range(len(x)):\n",
    "            sum += math.pow(abs(x[i]-y[i]), p)\n",
    "    return sum"
   ]
  },
  {
   "cell_type": "code",
   "execution_count": 5,
   "metadata": {},
   "outputs": [],
   "source": [
    "# 课本例3.1，求解不同距离计算方式（p值），距离x1最近的点？\n",
    "x1 = [1, 1]\n",
    "x2 = [5, 1]\n",
    "x3 = [4, 4]"
   ]
  },
  {
   "cell_type": "code",
   "execution_count": 6,
   "metadata": {},
   "outputs": [
    {
     "name": "stdout",
     "output_type": "stream",
     "text": [
      "x2 is closer to x1\n"
     ]
    }
   ],
   "source": [
    "# p=1\n",
    "L12 = L(x1, x2, 1)\n",
    "L13 = L(x1, x3, 1)\n",
    "if L12 == L13:\n",
    "    print('x2 and x3 have the same distance to x1:', L12)\n",
    "else:\n",
    "    s = 'x3' if L12 > L13 else 'x2'\n",
    "    print('%s is closer to x1' %(s))"
   ]
  },
  {
   "cell_type": "code",
   "execution_count": 7,
   "metadata": {},
   "outputs": [
    {
     "name": "stdout",
     "output_type": "stream",
     "text": [
      "x2 is closer to x1\n"
     ]
    }
   ],
   "source": [
    "# p=2\n",
    "L12 = L(x1, x2, 2)\n",
    "L13 = L(x1, x3, 2)\n",
    "if L12 == L13:\n",
    "    print('x2 and x3 have the same distance to x1:', L12)\n",
    "else:\n",
    "    s = 'x3' if L12 > L13 else 'x2'\n",
    "    print('%s is closer to x1' %(s))"
   ]
  },
  {
   "cell_type": "code",
   "execution_count": 8,
   "metadata": {},
   "outputs": [],
   "source": [
    "import pandas as pd\n",
    "from sklearn.datasets import load_iris\n",
    "import matplotlib.pyplot as plt\n",
    "import numpy as np\n",
    "from sklearn.model_selection import train_test_split"
   ]
  },
  {
   "cell_type": "code",
   "execution_count": 9,
   "metadata": {},
   "outputs": [
    {
     "name": "stdout",
     "output_type": "stream",
     "text": [
      "   sepal length  sepal width  petal length  petal width  label\n0           5.1          3.5           1.4          0.2      0\n[0 1 2]\n"
     ]
    }
   ],
   "source": [
    "iris = load_iris()\n",
    "df = pd.DataFrame(iris.data, columns=iris.feature_names)\n",
    "df['label'] = iris.target\n",
    "df.columns = ['sepal length', 'sepal width', 'petal length', 'petal width', 'label']\n",
    "print(df.head(1))\n",
    "print(df['label'].unique())"
   ]
  },
  {
   "cell_type": "code",
   "execution_count": 10,
   "metadata": {},
   "outputs": [],
   "source": [
    "# visualization data\n",
    "plt.scatter(df[:50]['sepal length'], df[:50]['sepal width'], label='0')\n",
    "plt.scatter(df[50:100]['sepal length'], df[50:100]['sepal width'], label='1')\n",
    "plt.xlabel('sepal length')\n",
    "plt.ylabel('sepal width')\n",
    "plt.legend(loc='upper right')\n",
    "plt.show()"
   ]
  },
  {
   "cell_type": "code",
   "execution_count": 11,
   "metadata": {},
   "outputs": [],
   "source": [
    "data = np.array(df.iloc[:100, [0, 1, -1]])\n",
    "X, y = data[:, :-1], data[:, -1]\n",
    "X_train, X_test, y_train, y_test = train_test_split(X, y, test_size=0.2)"
   ]
  },
  {
   "cell_type": "code",
   "execution_count": 24,
   "metadata": {},
   "outputs": [],
   "source": [
    "class KNN:\n",
    "    def __init__(self, X_train, y_train, n_neighbors=10, p=2):\n",
    "        self.X_train = X_train\n",
    "        self.y_train = y_train\n",
    "        self.n_neighbors = n_neighbors\n",
    "        self.p = p\n",
    "    \n",
    "    def predict(self, X):\n",
    "        \"\"\"\n",
    "        寻找需要预测的样本到训练样本之间的距离最短的K个样本\n",
    "        :param X:X表示需要预测的样本\n",
    "        \"\"\"\n",
    "        knn_list = []\n",
    "        for i in range(self.n_neighbors):\n",
    "            dist = np.linalg.norm(X-self.X_train[i], ord=self.p)\n",
    "            knn_list.append((dist,self.y_train[i]))\n",
    "        for i in range(self.n_neighbors, len(self.X_train)):\n",
    "            max_index = knn_list.index(max(knn_list, key=lambda x:x[0]))\n",
    "            dist = np.linalg.norm(X-self.X_train[i], ord=self.p)\n",
    "            if dist < knn_list[max_index][0]:\n",
    "                knn_list[max_index] = (dist, self.y_train[i])\n",
    "        label_map ={}\n",
    "        for item in knn_list:\n",
    "            if item[1] in label_map:\n",
    "                label_map[item[1]] += 1\n",
    "            else:\n",
    "                label_map[item[1]] = 1\n",
    "        sorted(label_map.items(), key=lambda items:items[1])\n",
    "        return list(label_map.keys())[-1]\n",
    "    \n",
    "    def source(self,X_test, y_test):\n",
    "        right_count = 0\n",
    "        for X, y in zip(X_test, y_test):\n",
    "            label = self.predict(X)\n",
    "            if label == y:\n",
    "                right_count += 1\n",
    "        print('the right count is:', (right_count / len(X_test)))\n"
   ]
  },
  {
   "cell_type": "code",
   "execution_count": 25,
   "metadata": {},
   "outputs": [
    {
     "name": "stdout",
     "output_type": "stream",
     "text": [
      "the right count is: 0.85\n"
     ]
    }
   ],
   "source": [
    "clf = KNN(X_train, y_train)\n",
    "clf.source(X_test, y_test)"
   ]
  },
  {
   "cell_type": "code",
   "execution_count": 29,
   "metadata": {},
   "outputs": [
    {
     "name": "stdout",
     "output_type": "stream",
     "text": [
      "The Test Point is : 0.0\n"
     ]
    }
   ],
   "source": [
    "test_point = [6.3, 9.8]\n",
    "print('The Test Point is :',clf.predict(test_point))"
   ]
  },
  {
   "cell_type": "code",
   "execution_count": 30,
   "metadata": {},
   "outputs": [],
   "source": [
    "plt.scatter(df[:50]['sepal length'], df[:50]['sepal width'], label='0')\n",
    "plt.scatter(df[50:100]['sepal length'], df[50:100]['sepal width'], label='1')\n",
    "plt.plot(test_point[0], test_point[1], 'bo',label='test point')\n",
    "plt.legend(loc='upper right')\n",
    "plt.show()"
   ]
  },
  {
   "cell_type": "code",
   "execution_count": 31,
   "metadata": {},
   "outputs": [],
   "source": [
    "from sklearn.neighbors import KNeighborsClassifier\n",
    "'''\n",
    "sklearn.neighbors.KNeighborsClassifier\n",
    "    n_neighbors: 临近点个数\n",
    "    p: 距离度量\n",
    "    algorithm: 近邻算法，可选{'auto', 'ball_tree', 'kd_tree', 'brute'}\n",
    "    weights: 确定近邻的权重\n",
    "'''"
   ]
  },
  {
   "cell_type": "code",
   "execution_count": 35,
   "metadata": {},
   "outputs": [
    {
     "data": {
      "text/plain": [
       "1.0"
      ]
     },
     "execution_count": 35,
     "metadata": {},
     "output_type": "execute_result"
    }
   ],
   "source": [
    "knn = KNeighborsClassifier(n_neighbors=10, algorithm='kd_tree')\n",
    "knn.fit(X_train, y_train)\n",
    "knn.score(X_test, y_test)"
   ]
  },
  {
   "cell_type": "code",
   "execution_count": null,
   "metadata": {},
   "outputs": [],
   "source": [
    "# 构建kd_tree\n"
   ]
  }
 ],
 "metadata": {
  "kernelspec": {
   "display_name": "Python 2",
   "language": "python",
   "name": "python2"
  },
  "language_info": {
   "codemirror_mode": {
    "name": "ipython",
    "version": 2
   },
   "file_extension": ".py",
   "mimetype": "text/x-python",
   "name": "python",
   "nbconvert_exporter": "python",
   "pygments_lexer": "ipython2",
   "version": "2.7.6"
  }
 },
 "nbformat": 4,
 "nbformat_minor": 0
}
